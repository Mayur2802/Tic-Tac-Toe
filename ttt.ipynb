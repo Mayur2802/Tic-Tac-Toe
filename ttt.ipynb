{
  "nbformat": 4,
  "nbformat_minor": 0,
  "metadata": {
    "colab": {
      "name": "ttt.ipynb",
      "version": "0.3.2",
      "provenance": [],
      "collapsed_sections": []
    },
    "kernelspec": {
      "name": "python3",
      "display_name": "Python 3"
    }
  },
  "cells": [
    {
      "cell_type": "code",
      "metadata": {
        "id": "g4ARipwu3eGH",
        "colab_type": "code",
        "colab": {}
      },
      "source": [
        "from IPython.display import clear_output\n",
        "\n",
        "def display_board(board):\n",
        "  \n",
        "  clear_output()\n",
        "  print('  |     |')\n",
        "  print(board[7] + ' | ' + ' ' + board[8] + '  | ' + board[9])\n",
        "  print('  |     |')\n",
        "  print('-----------')\n",
        "  print('  |     |')\n",
        "  print(board[4] + ' | ' + ' ' + board[5] + '  | ' + board[6])\n",
        "  print('  |     |')\n",
        "  print('-----------')\n",
        "  print('  |     |')\n",
        "  print(board[1] + ' | ' + ' ' + board[2] + '  | ' + board[3])\n",
        "  print('  |     |')\n",
        "  \n",
        "  "
      ],
      "execution_count": 0,
      "outputs": []
    },
    {
      "cell_type": "code",
      "metadata": {
        "id": "9TuYVe3t7PB5",
        "colab_type": "code",
        "colab": {
          "base_uri": "https://localhost:8080/",
          "height": 212
        },
        "outputId": "8cfb711c-a637-459f-95ec-09203142eb1d"
      },
      "source": [
        "test_board = ['#','X','O','X','O','X','O','X','O','X']\n",
        "display_board(test_board)"
      ],
      "execution_count": 17,
      "outputs": [
        {
          "output_type": "stream",
          "text": [
            "  |     |\n",
            "X |  O  | X\n",
            "  |     |\n",
            "-----------\n",
            "  |     |\n",
            "O |  X  | O\n",
            "  |     |\n",
            "-----------\n",
            "  |     |\n",
            "X |  O  | X\n",
            "  |     |\n"
          ],
          "name": "stdout"
        }
      ]
    },
    {
      "cell_type": "code",
      "metadata": {
        "id": "PRCoiVzM7UoQ",
        "colab_type": "code",
        "colab": {}
      },
      "source": [
        "def player_input():\n",
        "  ''' \n",
        "  OUTPUT : (Player1, Player2)\n",
        "  '''\n",
        "  marker = ''\n",
        "  while not(marker == 'X' or marker == 'O'):\n",
        "    marker = input('Player 1, Choose X or O : ').upper()\n",
        "\n",
        "    if marker == 'X':\n",
        "      return ('X', 'O')\n",
        "    else:\n",
        "      return ('O', 'X')"
      ],
      "execution_count": 0,
      "outputs": []
    },
    {
      "cell_type": "code",
      "metadata": {
        "id": "oHtHwm51il5t",
        "colab_type": "code",
        "colab": {
          "base_uri": "https://localhost:8080/",
          "height": 52
        },
        "outputId": "8c911836-8380-4b1f-ea19-f494b8770fe8"
      },
      "source": [
        "player_input()"
      ],
      "execution_count": 19,
      "outputs": [
        {
          "output_type": "stream",
          "text": [
            "Player 1, Choose X or O : x\n"
          ],
          "name": "stdout"
        },
        {
          "output_type": "execute_result",
          "data": {
            "text/plain": [
              "('X', 'O')"
            ]
          },
          "metadata": {
            "tags": []
          },
          "execution_count": 19
        }
      ]
    },
    {
      "cell_type": "code",
      "metadata": {
        "id": "NsVgyyuOjGKt",
        "colab_type": "code",
        "colab": {}
      },
      "source": [
        "def place_marker(board, marker, position):\n",
        "  board[position] = marker"
      ],
      "execution_count": 0,
      "outputs": []
    },
    {
      "cell_type": "code",
      "metadata": {
        "id": "7DSSgXHzj3J2",
        "colab_type": "code",
        "colab": {
          "base_uri": "https://localhost:8080/",
          "height": 212
        },
        "outputId": "b8cd78eb-ff2f-42bc-d0e7-144aea1fca2e"
      },
      "source": [
        "place_marker(test_board, '$', 5)\n",
        "display_board(test_board)"
      ],
      "execution_count": 21,
      "outputs": [
        {
          "output_type": "stream",
          "text": [
            "  |     |\n",
            "X |  O  | X\n",
            "  |     |\n",
            "-----------\n",
            "  |     |\n",
            "O |  $  | O\n",
            "  |     |\n",
            "-----------\n",
            "  |     |\n",
            "X |  O  | X\n",
            "  |     |\n"
          ],
          "name": "stdout"
        }
      ]
    },
    {
      "cell_type": "code",
      "metadata": {
        "id": "2r9GqNsCmsrX",
        "colab_type": "code",
        "colab": {}
      },
      "source": [
        "def win_check(board, mark):\n",
        "  return((board[1]==board[2]==board[3]==mark) or\n",
        "         (board[4]==board[5]==board[6]==mark) or\n",
        "         (board[7]==board[8]==board[9]==mark) or\n",
        "         (board[1]==board[4]==board[7]==mark) or\n",
        "         (board[2]==board[5]==board[8]==mark) or\n",
        "         (board[3]==board[6]==board[9]==mark) or\n",
        "         (board[1]==board[5]==board[9]==mark) or\n",
        "         (board[3]==board[5]==board[7]==mark))\n"
      ],
      "execution_count": 0,
      "outputs": []
    },
    {
      "cell_type": "code",
      "metadata": {
        "id": "gERJQaHSmx_k",
        "colab_type": "code",
        "colab": {}
      },
      "source": [
        "import random\n",
        "\n",
        "def choose_first():\n",
        "  flip = random.randint(0,1)\n",
        "\n",
        "  if flip == 0:\n",
        "    return 'Player 1'\n",
        "  else:\n",
        "    return 'Player 2'\n"
      ],
      "execution_count": 0,
      "outputs": []
    },
    {
      "cell_type": "code",
      "metadata": {
        "id": "D0GbvFimrsYA",
        "colab_type": "code",
        "colab": {}
      },
      "source": [
        "def space_check(board, position):\n",
        "\n",
        "  return board[position] == ' '"
      ],
      "execution_count": 0,
      "outputs": []
    },
    {
      "cell_type": "code",
      "metadata": {
        "id": "T-UL9x6Z7yc-",
        "colab_type": "code",
        "colab": {}
      },
      "source": [
        "def full_board_check(board):\n",
        "  for i in range(1, 10):\n",
        "    if space_check(board, i):\n",
        "      return False # Board is not full\n",
        "  return True # Board is full"
      ],
      "execution_count": 0,
      "outputs": []
    },
    {
      "cell_type": "code",
      "metadata": {
        "id": "r0YjvRUH_OPs",
        "colab_type": "code",
        "colab": {}
      },
      "source": [
        "def player_choice(board):\n",
        "  position = 0\n",
        "  while position not in list(range(1, 10)) or not space_check(board, position):\n",
        "    position = int(input('Choose any position from (1-9) : '))\n",
        "\n",
        "  return position"
      ],
      "execution_count": 0,
      "outputs": []
    },
    {
      "cell_type": "code",
      "metadata": {
        "id": "Ibr6eAr2wAfc",
        "colab_type": "code",
        "colab": {}
      },
      "source": [
        "def replay():\n",
        "  rep = input('Do you want to play again ? ').lower()\n",
        "  return rep == 'yes'"
      ],
      "execution_count": 0,
      "outputs": []
    },
    {
      "cell_type": "code",
      "metadata": {
        "id": "lUOd9uT9_R0H",
        "colab_type": "code",
        "colab": {
          "base_uri": "https://localhost:8080/",
          "height": 248
        },
        "outputId": "4186bdc4-a5d0-4b1b-f887-1d861bfcefa6"
      },
      "source": [
        "print('WELCOME TO TIC-TAC-TOE : ')\n",
        "\n",
        "while True:\n",
        "  the_board = [' ']*10\n",
        "  player1_marker, player2_marker = player_input()\n",
        "  turn = choose_first()\n",
        "  print(turn + ' will go first. ')\n",
        "\n",
        "  play_game = input('Ready to play, yes or no? ')\n",
        "  if play_game.lower() == 'yes':\n",
        "    game_on = True\n",
        "  else:\n",
        "    game_on = False\n",
        "\n",
        "  while game_on:\n",
        "    \n",
        "    #Player 1's turn\n",
        "    if turn == 'Player 1':\n",
        "      display_board(the_board) #Show the board\n",
        "      position = player_choice(the_board) #Choose a position\n",
        "      place_marker(the_board, player1_marker, position) #Place a marker on the board\n",
        "\n",
        "      if win_check(the_board, player1_marker):\n",
        "        display_board(the_board)\n",
        "        print('Player 1 has WON!')\n",
        "        game_on = False\n",
        "      else:\n",
        "        if full_board_check(the_board):\n",
        "          display_board(the_board)\n",
        "          print('The game is a TIE!')\n",
        "          break\n",
        "        else:\n",
        "          turn = 'Player 2'\n",
        "      \n",
        "\n",
        "\n",
        "    #Player 2's turn\n",
        "    else:\n",
        "      display_board(the_board) #Show the board\n",
        "      position = player_choice(the_board) #Choose a position\n",
        "      place_marker(the_board, player2_marker, position) #Place a marker on the board\n",
        "\n",
        "      if win_check(the_board, player2_marker):\n",
        "        display_board(the_board)\n",
        "        print('Player 2 has WON!')\n",
        "        game_on = False\n",
        "\n",
        "      else:\n",
        "        if full_board_check(the_board):\n",
        "          display_board(the_board)\n",
        "          print('The game is a TIE!')\n",
        "          break\n",
        "        else:\n",
        "          turn = 'Player 1'\n",
        "\n",
        "  if not replay():\n",
        "    break\n",
        "\n",
        "\n",
        "\n"
      ],
      "execution_count": 28,
      "outputs": [
        {
          "output_type": "stream",
          "text": [
            "  |     |\n",
            "X |     |  \n",
            "  |     |\n",
            "-----------\n",
            "  |     |\n",
            "O |  X  | O\n",
            "  |     |\n",
            "-----------\n",
            "  |     |\n",
            "X |  O  | X\n",
            "  |     |\n",
            "Player 2 has WON!\n",
            "Do you want to play again ? no\n"
          ],
          "name": "stdout"
        }
      ]
    },
    {
      "cell_type": "code",
      "metadata": {
        "id": "dx0qdyxvwDnz",
        "colab_type": "code",
        "colab": {}
      },
      "source": [
        ""
      ],
      "execution_count": 0,
      "outputs": []
    },
    {
      "cell_type": "code",
      "metadata": {
        "id": "dI15drcZyhJF",
        "colab_type": "code",
        "colab": {}
      },
      "source": [
        ""
      ],
      "execution_count": 0,
      "outputs": []
    },
    {
      "cell_type": "code",
      "metadata": {
        "id": "bZGfxcKlykph",
        "colab_type": "code",
        "colab": {}
      },
      "source": [
        ""
      ],
      "execution_count": 0,
      "outputs": []
    }
  ]
}